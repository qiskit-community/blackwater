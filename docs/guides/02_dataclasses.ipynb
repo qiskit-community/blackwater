{
 "cells": [
  {
   "cell_type": "markdown",
   "id": "b937f516-be2b-4d21-a420-0fb4e752eafb",
   "metadata": {},
   "source": [
    "# Guide: dataclasses"
   ]
  },
  {
   "cell_type": "code",
   "execution_count": 3,
   "id": "2b3e2513-d02c-47d7-bea7-6fa7c64c8f90",
   "metadata": {},
   "outputs": [],
   "source": [
    "from qiskit import transpile, QuantumCircuit\n",
    "from qiskit.providers.fake_provider import FakeLimaV2\n",
    "from qiskit.quantum_info import SparsePauliOp\n",
    "from torch_geometric.data import Data\n",
    "\n",
    "from blackwater.data.dataclasses import ExpValData"
   ]
  },
  {
   "cell_type": "code",
   "execution_count": 4,
   "id": "bdaafb1c-44f9-489f-bb2c-3bafe0c6da12",
   "metadata": {},
   "outputs": [
    {
     "data": {
      "text/html": [
       "<pre style=\"word-wrap: normal;white-space: pre;background: #fff0;line-height: 1.1;font-family: &quot;Courier New&quot;,Courier,monospace\">        ┌───┐      ░ ┌─┐   \n",
       "   q_0: ┤ H ├──■───░─┤M├───\n",
       "        └───┘┌─┴─┐ ░ └╥┘┌─┐\n",
       "   q_1: ─────┤ X ├─░──╫─┤M├\n",
       "             └───┘ ░  ║ └╥┘\n",
       "meas: 2/══════════════╩══╩═\n",
       "                      0  1 </pre>"
      ],
      "text/plain": [
       "        ┌───┐      ░ ┌─┐   \n",
       "   q_0: ┤ H ├──■───░─┤M├───\n",
       "        └───┘┌─┴─┐ ░ └╥┘┌─┐\n",
       "   q_1: ─────┤ X ├─░──╫─┤M├\n",
       "             └───┘ ░  ║ └╥┘\n",
       "meas: 2/══════════════╩══╩═\n",
       "                      0  1 "
      ]
     },
     "execution_count": 4,
     "metadata": {},
     "output_type": "execute_result"
    }
   ],
   "source": [
    "circuit = QuantumCircuit(2)\n",
    "circuit.h(0)\n",
    "circuit.cx(0, 1)\n",
    "circuit.measure_all()\n",
    "circuit.draw()"
   ]
  },
  {
   "cell_type": "code",
   "execution_count": 6,
   "id": "3d190c38-e522-401d-9829-957b37169779",
   "metadata": {},
   "outputs": [],
   "source": [
    "fake_lima = FakeLimaV2()\n",
    "transpiled_circuit = transpile(circuit, fake_lima)\n",
    "operator = SparsePauliOp([\"ZZZ\"])\n",
    "exp_vals = [0.]"
   ]
  },
  {
   "cell_type": "code",
   "execution_count": 9,
   "id": "c0546ad0-6ded-4000-8bd4-85eb5bb3252a",
   "metadata": {},
   "outputs": [
    {
     "data": {
      "text/plain": [
       "ExpValData(circuit=GraphData(nodes=[[0, 1, 0, 0, 0, 0, 0, 0, 0, 1.5707963267948966, 0.0, 0.0, 5.9698643286635694e-05, 9.355584184359312e-05, 5029685549.923759, 0.0, 0.0, 0.0, 0.0, 0.0, 0.0, 0.0, 0.0, 0.0, 0.0, 0.0, 0.0], [0, 0, 1, 0, 0, 0, 0, 0, 0, 0.0, 0.0, 0.0, 5.9698643286635694e-05, 9.355584184359312e-05, 5029685549.923759, 0.0, 0.0, 0.0, 0.0, 0.0, 0.0, 0.0, 0.0, 0.0, 0.0, 0.0, 0.0], [0, 1, 0, 0, 0, 0, 0, 0, 0, 1.5707963267948966, 0.0, 0.0, 5.9698643286635694e-05, 9.355584184359312e-05, 5029685549.923759, 0.0, 0.0, 0.0, 0.0, 0.0, 0.0, 0.0, 0.0, 0.0, 0.0, 0.0, 0.0], [0, 0, 0, 0, 1, 0, 0, 0, 0, 0.0, 0.0, 0.0, 5.9698643286635694e-05, 9.355584184359312e-05, 5029685549.923759, 8.305997230317399e-05, 0.00011553074510239035, 5128321697.435369, 0.0, 0.0, 0.0, 0.0, 0.0, 0.0, 0.0, 0.0, 0.0], [0, 0, 0, 0, 0, 0, 0, 0, 1, 0.0, 0.0, 0.0, 5.9698643286635694e-05, 9.355584184359312e-05, 5029685549.923759, 8.305997230317399e-05, 0.00011553074510239035, 5128321697.435369, 0.0, 0.0, 0.0, 0.0, 0.0, 0.0, 0.0, 0.0, 0.0], [0, 0, 0, 0, 0, 0, 1, 0, 0, 0.0, 0.0, 0.0, 5.9698643286635694e-05, 9.355584184359312e-05, 5029685549.923759, 0.0, 0.0, 0.0, 0.0, 0.0, 0.0, 0.0, 0.0, 0.0, 0.0, 0.0, 0.0], [0, 0, 0, 0, 0, 0, 1, 0, 0, 0.0, 0.0, 0.0, 0.0, 0.0, 0.0, 8.305997230317399e-05, 0.00011553074510239035, 5128321697.435369, 0.0, 0.0, 0.0, 0.0, 0.0, 0.0, 0.0, 0.0, 0.0]], edges=[[0, 1], [1, 2], [2, 3], [3, 4], [3, 4], [4, 6], [4, 5]], edge_features=[[0.0], [0.0], [0.0], [0.0], [0.0], [0.0], [0.0]]), circuit_depth=5, expectation_values=[0.0], observable=OperatorData(operator=[[1.0, 0, 1, 0, 0, 0, 1, 0, 0, 0, 1, 0, 0]]), backend=GraphData(nodes=[[5.9698643286635694e-05, 9.355584184359312e-05, 5029685549.923759], [8.305997230317399e-05, 0.00011553074510239035, 5128321697.435369], [0.00010377694598809795, 9.477169960638749e-05, 5247491310.11471], [4.358447375590962e-05, 4.645933441447346e-05, 5303339662.601714], [1.7543975812787366e-05, 1.6441110002077736e-05, 5091790567.452984]], edges=[[4, 3], [3, 4], [0, 1], [1, 0], [3, 1], [1, 3], [2, 1], [1, 2]], edge_features=[[0.0], [0.0], [0.0], [0.0], [0.0], [0.0], [0.0], [0.0]]))"
      ]
     },
     "execution_count": 9,
     "metadata": {},
     "output_type": "execute_result"
    }
   ],
   "source": [
    "# create exp val dataclass\n",
    "exp_val_data = ExpValData.build(\n",
    "    circuit=transpiled_circuit,\n",
    "    expectation_values=exp_vals,\n",
    "    observable=operator,\n",
    "    backend=fake_lima\n",
    ")\n",
    "exp_val_data"
   ]
  },
  {
   "cell_type": "code",
   "execution_count": 10,
   "id": "88c16795-7300-42f7-8dbb-3a785cf4993a",
   "metadata": {},
   "outputs": [
    {
     "data": {
      "text/plain": [
       "Data(x=[7, 27], edge_index=[2, 7], edge_attr=[7, 1], y=[1, 1], circuit_depth=[1, 1], observable=[1, 1, 13], backend_nodes=[5, 3], backend_edges=[2, 8], backend_edge_features=[8, 1])"
      ]
     },
     "execution_count": 10,
     "metadata": {},
     "output_type": "execute_result"
    }
   ],
   "source": [
    "# convert ExpValData dataclass into Pytorch geometric Data\n",
    "exp_val_data.to_pyg()"
   ]
  },
  {
   "cell_type": "code",
   "execution_count": null,
   "id": "45e5dd24-bb1e-43db-aee6-933f41359e65",
   "metadata": {},
   "outputs": [],
   "source": []
  }
 ],
 "metadata": {
  "kernelspec": {
   "display_name": "Python 3 (ipykernel)",
   "language": "python",
   "name": "python3"
  },
  "language_info": {
   "codemirror_mode": {
    "name": "ipython",
    "version": 3
   },
   "file_extension": ".py",
   "mimetype": "text/x-python",
   "name": "python",
   "nbconvert_exporter": "python",
   "pygments_lexer": "ipython3",
   "version": "3.7.13"
  }
 },
 "nbformat": 4,
 "nbformat_minor": 5
}
