{
 "cells": [
  {
   "cell_type": "code",
   "execution_count": 12,
   "id": "06120253-65b9-48b5-8925-4565a96933d4",
   "metadata": {},
   "outputs": [],
   "source": [
    "import json\n",
    "import glob\n",
    "import itertools\n",
    "\n",
    "import numpy as np\n",
    "import pandas as pd\n",
    "\n",
    "from qiskit import transpile, QuantumCircuit\n",
    "from qiskit.providers.fake_provider import FakeLima\n",
    "from qiskit.primitives import Estimator, BackendEstimator\n",
    "from qiskit.circuit.random import random_circuit\n",
    "from qiskit.quantum_info import SparsePauliOp\n",
    "\n",
    "import torch\n",
    "from torch.optim import Adam\n",
    "from torch.optim.lr_scheduler import ReduceLROnPlateau\n",
    "from torch.nn.functional import dropout\n",
    "\n",
    "from torch_geometric.nn import (\n",
    "    GCNConv, \n",
    "    TransformerConv, \n",
    "    GATv2Conv, \n",
    "    global_mean_pool, \n",
    "    Linear, \n",
    "    ChebConv, \n",
    "    SAGEConv,\n",
    "    ASAPooling,\n",
    "    dense_diff_pool,\n",
    "    avg_pool_neighbor_x\n",
    ")\n",
    "from torch_geometric.data import Data\n",
    "from torch_geometric.loader import DataLoader\n",
    "from torch_geometric.utils import to_dense_adj, to_dense_batch\n",
    "\n",
    "from tqdm.notebook import tqdm_notebook\n",
    "import matplotlib.pyplot as plt\n",
    "import seaborn as sns\n",
    "\n",
    "from blackwater.data.loaders.exp_val import CircuitGraphExpValMitigationDataset\n",
    "from blackwater.data.generators.exp_val import exp_value_generator\n",
    "from blackwater.data.utils import generate_random_pauli_sum_op\n",
    "from blackwater.library.ngem.estimator import ngem\n",
    "from blackwater.data.utils import (\n",
    "    generate_random_pauli_sum_op,\n",
    "    create_estimator_meas_data,\n",
    "    circuit_to_graph_data_json,\n",
    "    get_backend_properties_v1,\n",
    "    encode_pauli_sum_op,\n",
    "    create_meas_data_from_estimators\n",
    ")\n",
    "from blackwater.data.generators.exp_val import ExpValueEntry\n",
    "from blackwater.metrics.improvement_factor import improvement_factor, Trial, Problem\n",
    "\n",
    "from qiskit_aer.primitives import Estimator as AerEstimator\n",
    "from qiskit_aer.noise import NoiseModel\n",
    "import qiskit_aer.noise as noise\n",
    "\n",
    "from qiskit.providers.models import BackendProperties\n",
    "\n",
    "from pprint import pprint\n",
    "import copy"
   ]
  },
  {
   "cell_type": "code",
   "execution_count": 2,
   "id": "5c379f17-89b8-49f4-b164-27896833c6a8",
   "metadata": {},
   "outputs": [],
   "source": [
    "backend = FakeLima()\n",
    "properties = get_backend_properties_v1(backend)"
   ]
  },
  {
   "cell_type": "code",
   "execution_count": 3,
   "id": "0a4bd2e8-1f85-4ba1-8eac-075ace69ac32",
   "metadata": {},
   "outputs": [],
   "source": [
    "# 0. generate data\n",
    "# 1. create orinal noise model (nm0)\n",
    "# 2. train model on nm0 with 10k circuits and get MSE\n",
    "# 3. wiggle noise model (nm1) and check MSE \n",
    "# 4. train model from scratch with 1k, 2k, 3k, 4k, ... and get MSE\n",
    "# 5. plot"
   ]
  },
  {
   "cell_type": "code",
   "execution_count": null,
   "id": "1815e9fa-0b9a-4391-83ab-ead63e2c92cf",
   "metadata": {},
   "outputs": [],
   "source": []
  },
  {
   "cell_type": "markdown",
   "id": "1597daed-94d9-4840-928c-c81e255e5995",
   "metadata": {},
   "source": [
    "### Generate data"
   ]
  },
  {
   "cell_type": "code",
   "execution_count": 47,
   "id": "3c397d0a-1a27-4817-80a2-ceead8d9e907",
   "metadata": {},
   "outputs": [
    {
     "data": {
      "application/vnd.jupyter.widget-view+json": {
       "model_id": "25ab840a383a4f88af74dcdf0615ad51",
       "version_major": 2,
       "version_minor": 0
      },
      "text/plain": [
       "  0%|          | 0/100 [00:00<?, ?it/s]"
      ]
     },
     "metadata": {},
     "output_type": "display_data"
    }
   ],
   "source": [
    "# circuits data\n",
    "\n",
    "N_FILES = 100\n",
    "N_ENTRIES_PER_FILE = 100\n",
    "\n",
    "for i in tqdm_notebook(range(N_FILES)):\n",
    "    with open(f\"./data/stability_over_time_experiment/circuits/qasm_circuits_{i}.txt\", \"w\") as f:\n",
    "        for _ in range(N_ENTRIES_PER_FILE):\n",
    "            circuit = transpile(\n",
    "                random_circuit(5, 1, measure=True), \n",
    "                basis_gates=backend.configuration().basis_gates,\n",
    "                optimization_level=0\n",
    "            )\n",
    "            \n",
    "            f.write(circuit.qasm())\n",
    "            f.write(\"=====\\n\")"
   ]
  },
  {
   "cell_type": "code",
   "execution_count": 21,
   "id": "bb2d69e1-8cfa-446f-8a58-4c58a4706c89",
   "metadata": {},
   "outputs": [],
   "source": [
    "# build estimator"
   ]
  },
  {
   "cell_type": "code",
   "execution_count": 26,
   "id": "a8e84638-db4c-411a-a5aa-d8afb4acdecd",
   "metadata": {},
   "outputs": [],
   "source": [
    "import requests"
   ]
  },
  {
   "cell_type": "code",
   "execution_count": 27,
   "id": "0e1a14ac-5f7d-42aa-b5b7-e6e196fe5e26",
   "metadata": {},
   "outputs": [],
   "source": [
    "lima_props = json.loads(\n",
    "    requests.get(\n",
    "        \"https://raw.githubusercontent.com/Qiskit/qiskit-terra/3241978340f534b76e4cf0e5e25ed16e2af5cf78/qiskit/providers/fake_provider/backends/lima/props_lima.json\"\n",
    "    ).text\n",
    ")"
   ]
  },
  {
   "cell_type": "code",
   "execution_count": 28,
   "id": "a08f0016-f773-4b03-83dc-49dd3494f87e",
   "metadata": {},
   "outputs": [],
   "source": [
    "backend_original = FakeLima()\n",
    "backend_tweaked = FakeLima()"
   ]
  },
  {
   "cell_type": "code",
   "execution_count": 29,
   "id": "0dff50a6-982b-4cba-9dce-940a0123249b",
   "metadata": {},
   "outputs": [],
   "source": [
    "backend_original.properties = lambda: BackendProperties.from_dict(lima_props)"
   ]
  },
  {
   "cell_type": "code",
   "execution_count": 30,
   "id": "c75126b1-fac9-4804-b420-8bdfb2a6ce22",
   "metadata": {},
   "outputs": [],
   "source": [
    "estimator_original = BackendEstimator(backend_original, skip_transpilation=True)"
   ]
  },
  {
   "cell_type": "code",
   "execution_count": 59,
   "id": "341d5947-fa6a-42db-8c1a-60eed0c6b55a",
   "metadata": {},
   "outputs": [],
   "source": [
    "CHANGE = lambda: np.random.randint(10, 30) * 0.1"
   ]
  },
  {
   "cell_type": "code",
   "execution_count": 60,
   "id": "4d2d35f9-95e4-4b6d-a9f9-8e993029c61e",
   "metadata": {},
   "outputs": [],
   "source": [
    "new_qubits = []\n",
    "for qubit in lima_props[\"qubits\"]:\n",
    "    new_qubit = []\n",
    "    for param in qubit:\n",
    "        new_param = param.copy()\n",
    "        new_param[\"value\"] = param[\"value\"] * CHANGE()\n",
    "        new_qubit.append(new_param)\n",
    "        \n",
    "    new_qubits.append(new_qubit)"
   ]
  },
  {
   "cell_type": "code",
   "execution_count": 61,
   "id": "43d1063e-195a-45c5-af15-b1acb7a0a8f6",
   "metadata": {},
   "outputs": [],
   "source": [
    "new_gates = []\n",
    "for gate in lima_props[\"gates\"]:\n",
    "    new_gate = gate.copy()\n",
    "    \n",
    "    new_parameters = []\n",
    "    for param in gate[\"parameters\"]:\n",
    "        new_param = param.copy()\n",
    "        new_param[\"value\"] = param[\"value\"] * CHANGE()\n",
    "        new_parameters.append(new_param)\n",
    "\n",
    "    new_gate[\"parameters\"] = new_parameters\n",
    "    \n",
    "    new_gates.append(new_gate)"
   ]
  },
  {
   "cell_type": "code",
   "execution_count": 62,
   "id": "f0f6a308-14c7-4915-8ae6-fdc6707cf31e",
   "metadata": {},
   "outputs": [],
   "source": [
    "tweaked_lima_props = lima_props.copy()\n",
    "tweaked_lima_props[\"gates\"] = new_gates\n",
    "tweaked_lima_props[\"qubits\"] = new_qubits"
   ]
  },
  {
   "cell_type": "code",
   "execution_count": 63,
   "id": "2c4aa2a1-5da1-4f0b-8a95-098f2d09e715",
   "metadata": {},
   "outputs": [],
   "source": [
    "backend_tweaked.properties = lambda: BackendProperties.from_dict(tweaked_lima_props)\n",
    "\n",
    "estimator_tweaked = BackendEstimator(backend_tweaked, skip_transpilation=True)"
   ]
  },
  {
   "cell_type": "code",
   "execution_count": 64,
   "id": "dc3cc131-2f56-4df7-b221-494a595db560",
   "metadata": {},
   "outputs": [],
   "source": [
    "aer_estimator = AerEstimator()"
   ]
  },
  {
   "cell_type": "code",
   "execution_count": 65,
   "id": "a21898da-373c-44fc-aabb-9a24da3bd5b3",
   "metadata": {},
   "outputs": [],
   "source": [
    "# aer_esitmator.run([circuit], [obs], shots=10000).result()\n",
    "# estimator_tweaked.run([circuit], [obs], shots=10000).result()"
   ]
  },
  {
   "cell_type": "code",
   "execution_count": 66,
   "id": "9ca54840-1edd-4e89-998f-dd63d7ac687d",
   "metadata": {},
   "outputs": [],
   "source": [
    "obs = SparsePauliOp([\"ZZZZZ\"])"
   ]
  },
  {
   "cell_type": "code",
   "execution_count": 67,
   "id": "44963b65-f7ac-415d-9bab-2763c0d67890",
   "metadata": {},
   "outputs": [],
   "source": [
    "# get measurements data"
   ]
  },
  {
   "cell_type": "code",
   "execution_count": 69,
   "id": "b6915648-d256-4738-ab40-a2e434596050",
   "metadata": {},
   "outputs": [
    {
     "data": {
      "application/vnd.jupyter.widget-view+json": {
       "model_id": "900d24909f5b41de932b998dbeba90e2",
       "version_major": 2,
       "version_minor": 0
      },
      "text/plain": [
       "  0%|          | 0/20 [00:00<?, ?it/s]"
      ]
     },
     "metadata": {},
     "output_type": "display_data"
    }
   ],
   "source": [
    "N_FILES = 20\n",
    "\n",
    "for i in tqdm_notebook(range(N_FILES)):\n",
    "    with open(f\"./data/stability_over_time_experiment/circuits/qasm_circuits_{i}.txt\", \"r\") as f:\n",
    "        qasm_strings = f.read().split(\"=====\")[:-1]\n",
    "\n",
    "        with open(f\"./data/stability_over_time_experiment/measurements/results_{i}.txt\", \"w\") as fr:\n",
    "            for qasm in qasm_strings:\n",
    "                circuit = QuantumCircuit.from_qasm_str(qasm)\n",
    "\n",
    "                ideal_exp_vals = create_meas_data_from_estimators(\n",
    "                    circuits=circuit, observables=obs, estimators=[\n",
    "                        aer_estimator, estimator_original, estimator_tweaked\n",
    "                    ],\n",
    "                    shots=10000\n",
    "                )\n",
    "\n",
    "                fr.write(\",\".join([str(x) for x in ideal_exp_vals]))\n",
    "                fr.write(\"\\n\")"
   ]
  },
  {
   "cell_type": "code",
   "execution_count": 70,
   "id": "207f1022-6860-4ead-8076-6260ff5f460e",
   "metadata": {},
   "outputs": [
    {
     "data": {
      "application/vnd.jupyter.widget-view+json": {
       "model_id": "9a326a81aa674e158b14255f8d572fb7",
       "version_major": 2,
       "version_minor": 0
      },
      "text/plain": [
       "  0%|          | 0/20 [00:00<?, ?it/s]"
      ]
     },
     "metadata": {},
     "output_type": "display_data"
    },
    {
     "name": "stdout",
     "output_type": "stream",
     "text": [
      "Saving ./data/stability_over_time_experiment/pyg_data/original/0.json...\n",
      "Saving ./data/stability_over_time_experiment/pyg_data/tweaked/0.json...\n",
      "Saving ./data/stability_over_time_experiment/pyg_data/original/1.json...\n",
      "Saving ./data/stability_over_time_experiment/pyg_data/tweaked/1.json...\n",
      "Saving ./data/stability_over_time_experiment/pyg_data/original/2.json...\n",
      "Saving ./data/stability_over_time_experiment/pyg_data/tweaked/2.json...\n",
      "Saving ./data/stability_over_time_experiment/pyg_data/original/3.json...\n",
      "Saving ./data/stability_over_time_experiment/pyg_data/tweaked/3.json...\n",
      "Saving ./data/stability_over_time_experiment/pyg_data/original/4.json...\n",
      "Saving ./data/stability_over_time_experiment/pyg_data/tweaked/4.json...\n",
      "Saving ./data/stability_over_time_experiment/pyg_data/original/5.json...\n",
      "Saving ./data/stability_over_time_experiment/pyg_data/tweaked/5.json...\n",
      "Saving ./data/stability_over_time_experiment/pyg_data/original/6.json...\n",
      "Saving ./data/stability_over_time_experiment/pyg_data/tweaked/6.json...\n",
      "Saving ./data/stability_over_time_experiment/pyg_data/original/7.json...\n",
      "Saving ./data/stability_over_time_experiment/pyg_data/tweaked/7.json...\n",
      "Saving ./data/stability_over_time_experiment/pyg_data/original/8.json...\n",
      "Saving ./data/stability_over_time_experiment/pyg_data/tweaked/8.json...\n",
      "Saving ./data/stability_over_time_experiment/pyg_data/original/9.json...\n",
      "Saving ./data/stability_over_time_experiment/pyg_data/tweaked/9.json...\n",
      "Saving ./data/stability_over_time_experiment/pyg_data/original/10.json...\n",
      "Saving ./data/stability_over_time_experiment/pyg_data/tweaked/10.json...\n",
      "Saving ./data/stability_over_time_experiment/pyg_data/original/11.json...\n",
      "Saving ./data/stability_over_time_experiment/pyg_data/tweaked/11.json...\n",
      "Saving ./data/stability_over_time_experiment/pyg_data/original/12.json...\n",
      "Saving ./data/stability_over_time_experiment/pyg_data/tweaked/12.json...\n",
      "Saving ./data/stability_over_time_experiment/pyg_data/original/13.json...\n",
      "Saving ./data/stability_over_time_experiment/pyg_data/tweaked/13.json...\n",
      "Saving ./data/stability_over_time_experiment/pyg_data/original/14.json...\n",
      "Saving ./data/stability_over_time_experiment/pyg_data/tweaked/14.json...\n",
      "Saving ./data/stability_over_time_experiment/pyg_data/original/15.json...\n",
      "Saving ./data/stability_over_time_experiment/pyg_data/tweaked/15.json...\n",
      "Saving ./data/stability_over_time_experiment/pyg_data/original/16.json...\n",
      "Saving ./data/stability_over_time_experiment/pyg_data/tweaked/16.json...\n",
      "Saving ./data/stability_over_time_experiment/pyg_data/original/17.json...\n",
      "Saving ./data/stability_over_time_experiment/pyg_data/tweaked/17.json...\n",
      "Saving ./data/stability_over_time_experiment/pyg_data/original/18.json...\n",
      "Saving ./data/stability_over_time_experiment/pyg_data/tweaked/18.json...\n",
      "Saving ./data/stability_over_time_experiment/pyg_data/original/19.json...\n",
      "Saving ./data/stability_over_time_experiment/pyg_data/tweaked/19.json...\n"
     ]
    }
   ],
   "source": [
    "observable = encode_pauli_sum_op(SparsePauliOp(\"ZZZZZ\"))\n",
    "\n",
    "for i in tqdm_notebook(range(N_FILES)):\n",
    "    circuits = []\n",
    "    with open(f\"./data/stability_over_time_experiment/circuits/qasm_circuits_{i}.txt\", \"r\") as fc:\n",
    "        qasm_strings = fc.read().split(\"=====\")[:-1]\n",
    "        circuits = [QuantumCircuit.from_qasm_str(qasm)\n",
    "                    for qasm in qasm_strings]\n",
    "\n",
    "    measurements = []\n",
    "                                       \n",
    "    df = pd.read_csv(f\"./data/stability_over_time_experiment/measurements/results_{i}.txt\", header=None)\n",
    "    df.columns = [\"ideal\", \"noise\", \"noise_tweaked\"]\n",
    "\n",
    "    for row in df.iterrows():\n",
    "        ideal_ev = row[1][\"ideal\"]\n",
    "        noisy_ev = row[1][\"noise\"]\n",
    "        noisy_tweaked_ev = row[1][\"noise_tweaked\"]\n",
    "\n",
    "        measurements.append((ideal_ev, noisy_ev, noisy_tweaked_ev))\n",
    "            \n",
    "                       \n",
    "    original_entries = []\n",
    "    tweaked_entries = []\n",
    "\n",
    "    for (ideal_ev, noisy_ev, noisy_tweaked_ev), circuit in zip(measurements, circuits):\n",
    "        \n",
    "        original_graph_data = circuit_to_graph_data_json(\n",
    "            circuit=circuit,\n",
    "            properties=get_backend_properties_v1(backend_original),\n",
    "            use_qubit_features=True,\n",
    "            use_gate_features=True,\n",
    "        )\n",
    "        tweaked_graph_data = circuit_to_graph_data_json(\n",
    "            circuit=circuit,\n",
    "            properties=get_backend_properties_v1(backend_tweaked),\n",
    "            use_qubit_features=True,\n",
    "            use_gate_features=True,\n",
    "        )\n",
    "                \n",
    "        original_entry = ExpValueEntry(\n",
    "            circuit_graph=original_graph_data,\n",
    "            observable=observable,\n",
    "            ideal_exp_value=ideal_ev,\n",
    "            noisy_exp_values=[noisy_ev],\n",
    "            circuit_depth=circuit.depth()\n",
    "        )       \n",
    "        tweaked_entry = ExpValueEntry(\n",
    "            circuit_graph=tweaked_graph_data,\n",
    "            observable=observable,\n",
    "            ideal_exp_value=ideal_ev,\n",
    "            noisy_exp_values=[noisy_tweaked_ev],\n",
    "            circuit_depth=circuit.depth()\n",
    "        )\n",
    "   \n",
    "        original_entries.append(original_entry.to_dict())   \n",
    "        tweaked_entries.append(tweaked_entry.to_dict())\n",
    "                       \n",
    "    save_file_path = f\"./data/stability_over_time_experiment/pyg_data/original/{i}.json\"\n",
    "    with open(save_file_path, \"w\") as json_file:\n",
    "        json.dump(original_entries, json_file)\n",
    "                       \n",
    "    save_file_path = f\"./data/stability_over_time_experiment/pyg_data/tweaked/{i}.json\"\n",
    "    with open(save_file_path, \"w\") as json_file:\n",
    "        json.dump(tweaked_entries, json_file)"
   ]
  },
  {
   "cell_type": "markdown",
   "id": "e5fe54b5-f276-468e-9b8d-0bf12e51e235",
   "metadata": {},
   "source": [
    "###  Train networks"
   ]
  },
  {
   "cell_type": "code",
   "execution_count": 71,
   "id": "79272cff-f027-4cc6-b0f9-9cf54bca64f8",
   "metadata": {},
   "outputs": [
    {
     "name": "stdout",
     "output_type": "stream",
     "text": [
      "DataBatch(x=[247, 28], edge_index=[2, 495], edge_attr=[248, 3], y=[10, 1], observable=[10, 1, 21], circuit_depth=[10, 1], noisy_0=[10, 1], batch=[247], ptr=[11])\n"
     ]
    }
   ],
   "source": [
    "max_files_to_use = 20\n",
    "train_size = 15\n",
    "\n",
    "data_paths = glob.glob(\"./data/stability_over_time_experiment/pyg_data/original/**.json\")[:max_files_to_use]\n",
    "\n",
    "BATCH_SIZE = 10\n",
    "\n",
    "train_loader = DataLoader(\n",
    "    CircuitGraphExpValMitigationDataset(\n",
    "        data_paths[:train_size],\n",
    "    ),\n",
    "    batch_size=BATCH_SIZE,\n",
    "    shuffle=True\n",
    ")\n",
    "\n",
    "val_loader = DataLoader(\n",
    "    CircuitGraphExpValMitigationDataset(\n",
    "        data_paths[train_size:],\n",
    "    ),\n",
    "    batch_size=BATCH_SIZE,\n",
    "    shuffle=False\n",
    ")\n",
    "\n",
    "for data in train_loader:\n",
    "    print(data)\n",
    "    break"
   ]
  },
  {
   "cell_type": "code",
   "execution_count": null,
   "id": "86787fad-794a-4aa3-b2b4-661968124fb8",
   "metadata": {},
   "outputs": [],
   "source": []
  },
  {
   "cell_type": "code",
   "execution_count": 72,
   "id": "68a5331d-745c-4233-8084-d583be4ad850",
   "metadata": {},
   "outputs": [],
   "source": [
    "class ExpValCircuitGraphModel(torch.nn.Module):\n",
    "    def __init__(\n",
    "        self,\n",
    "        n_qubits: int,\n",
    "        num_node_features: int,\n",
    "        hidden_channels: int\n",
    "    ):\n",
    "        super().__init__()\n",
    "        self.conv1 = GCNConv(num_node_features, hidden_channels)\n",
    "        self.conv2 = GCNConv(hidden_channels, hidden_channels)\n",
    "        self.conv3 = GCNConv(hidden_channels, 1)\n",
    "        \n",
    "        self.cheb_conv1 = ChebConv(num_node_features, hidden_channels, K=3)\n",
    "        self.cheb_conv2 = ChebConv(hidden_channels, 1, K=2)\n",
    "\n",
    "        self.sage_conv1 = SAGEConv(num_node_features, hidden_channels)\n",
    "        self.sage_conv2 = SAGEConv(hidden_channels, 1)\n",
    "        \n",
    "        self.obs_seq = torch.nn.Sequential(\n",
    "            Linear(n_qubits * 4 + 1, hidden_channels),\n",
    "            torch.nn.Dropout(0.2),\n",
    "            Linear(hidden_channels, 1)\n",
    "        )\n",
    "        \n",
    "        self.body_seq = torch.nn.Sequential(\n",
    "            Linear(6, hidden_channels),\n",
    "            Linear(hidden_channels, 1)\n",
    "        )\n",
    "\n",
    "    def forward(self, \n",
    "                exp_value, observable, \n",
    "                circuit_depth, nodes, \n",
    "                edge_index, batch):\n",
    "        # GCN\n",
    "        graph = self.conv1(nodes, edge_index).relu()\n",
    "        graph = dropout(graph, training=self.training, p=0.1)\n",
    "        graph = self.conv2(graph, edge_index).relu()\n",
    "        graph = dropout(graph, training=self.training, p=0.1)\n",
    "        graph = self.conv3(graph, edge_index)\n",
    "        graph = global_mean_pool(graph, batch)\n",
    "        \n",
    "        # Cheb\n",
    "        cheb = self.cheb_conv1(nodes, edge_index).relu()\n",
    "        cheb = dropout(cheb, training=self.training, p=0.2)\n",
    "        cheb = self.cheb_conv2(cheb, edge_index)\n",
    "        cheb = global_mean_pool(cheb, batch)\n",
    "        \n",
    "        # Sage\n",
    "        sage = self.sage_conv1(nodes, edge_index).relu()\n",
    "        sage = dropout(sage, training=self.training, p=0.2)\n",
    "        sage = self.sage_conv2(sage, edge_index)\n",
    "        sage = global_mean_pool(sage, batch)\n",
    "        \n",
    "        obs = self.obs_seq(observable)\n",
    "        obs = torch.mean(obs, dim=1)\n",
    "        \n",
    "        merge = torch.cat((\n",
    "            graph, \n",
    "            cheb,\n",
    "            sage,\n",
    "            obs,\n",
    "            circuit_depth,\n",
    "            exp_value\n",
    "        ), dim=1)\n",
    "\n",
    "        return self.body_seq(merge)"
   ]
  },
  {
   "cell_type": "code",
   "execution_count": 100,
   "id": "168f6fd4-8e60-440a-b81e-e90dfd585a89",
   "metadata": {},
   "outputs": [],
   "source": [
    "model = ExpValCircuitGraphModel(\n",
    "    n_qubits=5,\n",
    "    num_node_features=28, \n",
    "    hidden_channels=10\n",
    ")\n",
    "optimizer = Adam(model.parameters(), lr=0.001)\n",
    "criterion = torch.nn.MSELoss()\n",
    "scheduler = ReduceLROnPlateau(optimizer, \n",
    "                              'min', \n",
    "                              factor=0.5, \n",
    "                              patience=20, \n",
    "                              verbose=True, \n",
    "                              min_lr=0.000001)"
   ]
  },
  {
   "cell_type": "code",
   "execution_count": 101,
   "id": "b829b644-0866-4fef-b53d-cb292c6dddf1",
   "metadata": {},
   "outputs": [
    {
     "data": {
      "application/vnd.jupyter.widget-view+json": {
       "model_id": "270bb66fa788435d98a542987a8c32c7",
       "version_major": 2,
       "version_minor": 0
      },
      "text/plain": [
       "Model training:   0%|          | 0/10 [00:00<?, ?it/s]"
      ]
     },
     "metadata": {},
     "output_type": "display_data"
    }
   ],
   "source": [
    "min_valid_loss = np.inf\n",
    "\n",
    "train_losses = []\n",
    "val_losses = []\n",
    "\n",
    "N_EPOCHS = 10\n",
    "\n",
    "progress = tqdm_notebook(range(N_EPOCHS), desc='Model training', leave=True)\n",
    "for epoch in progress:\n",
    "    train_loss = 0.0\n",
    "    model.train()\n",
    "    for i, data in enumerate(train_loader):\n",
    "        optimizer.zero_grad()\n",
    "\n",
    "        out = model(\n",
    "            data.noisy_0, \n",
    "            data.observable, \n",
    "            data.circuit_depth,\n",
    "            data.x, \n",
    "            data.edge_index, \n",
    "            data.batch\n",
    "        )\n",
    "        loss = criterion(out, data.y)        \n",
    "        \n",
    "        train_loss += loss.item()\n",
    "        \n",
    "        loss.backward()\n",
    "        optimizer.step()\n",
    "                \n",
    "    valid_loss = 0.0\n",
    "    model.eval()\n",
    "    for i, data in enumerate(val_loader):\n",
    "        out = model(data.noisy_0, data.observable, data.circuit_depth, data.x, data.edge_index, data.batch)\n",
    "        loss = criterion(out, data.y)        \n",
    "\n",
    "        valid_loss += loss.item()\n",
    "\n",
    "    scheduler.step(valid_loss)\n",
    "\n",
    "    if epoch >= 1:    \n",
    "        train_losses.append(train_loss / len(train_loader))\n",
    "        val_losses.append(valid_loss / len(val_loader))\n",
    "\n",
    "        progress.set_description(f\"{round(train_losses[-1], 5)}, {round(val_losses[-1], 5)}\")\n",
    "        progress.refresh()"
   ]
  },
  {
   "cell_type": "code",
   "execution_count": 102,
   "id": "d2213ca3-0b1e-4e1b-9f6b-561fae5a89f9",
   "metadata": {},
   "outputs": [
    {
     "data": {
      "image/png": "[encoded data removed]",
      "text/plain": [
       "<Figure size 640x480 with 1 Axes>"
      ]
     },
     "metadata": {},
     "output_type": "display_data"
    }
   ],
   "source": [
    "plt.plot(train_losses, label=\"train_loss\")\n",
    "plt.plot(val_losses, label=\"val_loss\")\n",
    "plt.yscale('log')\n",
    "\n",
    "plt.legend()\n",
    "plt.show()\n",
    "\n",
    "# distances = []\n",
    "# for i, data in enumerate(val_loader):\n",
    "#     out = model(data.noisy_0, data.observable, data.circuit_depth, data.x, data.edge_index, data.batch)\n",
    "    \n",
    "#     for ideal, noisy, ngm_mitigated in zip(\n",
    "#         data.y.tolist(),\n",
    "#         data.noisy_0.tolist(),\n",
    "#         out.tolist()\n",
    "#     ):\n",
    "#         ideal = np.mean(ideal)\n",
    "#         noisy = np.mean(noisy)\n",
    "#         ngm_mitigated = np.mean(ngm_mitigated)\n",
    "#         distances.append({\n",
    "#             \"ideal\": ideal,\n",
    "#             \"noisy\": noisy,\n",
    "#             \"ngm_mitigated\": ngm_mitigated,\n",
    "#             \"dist_noisy\": np.abs(ideal - noisy),\n",
    "#             \"dist_ngm\": np.abs(ideal - ngm_mitigated),\n",
    "#         })\n",
    "        \n",
    "# df = pd.DataFrame(distances)\n",
    "# sns.boxplot(data=df[[\"dist_noisy\", \"dist_ngm\"]], orient=\"h\", showfliers = False)\n",
    "# plt.title(\"Dist to ideal exp value\")\n",
    "# plt.show()\n",
    "\n",
    "# sns.histplot([df['ideal'], df['noisy'], df[\"ngm_mitigated\"]], kde=True, bins=40)\n",
    "# plt.title(\"Exp values distribution\")\n",
    "# plt.show()"
   ]
  },
  {
   "cell_type": "code",
   "execution_count": 103,
   "id": "5d5ba75c-9547-4662-8d99-f3a85090c693",
   "metadata": {},
   "outputs": [
    {
     "data": {
      "text/plain": [
       "0.0031383494462352245"
      ]
     },
     "execution_count": 103,
     "metadata": {},
     "output_type": "execute_result"
    }
   ],
   "source": [
    "final_error = val_losses[-1]\n",
    "final_error"
   ]
  },
  {
   "cell_type": "code",
   "execution_count": null,
   "id": "e7a27d39-08de-48d6-9ea8-aa1ed61ae84c",
   "metadata": {},
   "outputs": [],
   "source": []
  },
  {
   "cell_type": "code",
   "execution_count": 104,
   "id": "d13725ae-9168-43e8-9489-0d90c08cec5e",
   "metadata": {},
   "outputs": [],
   "source": [
    "def post_train_model(model, train_loader, val_loader):\n",
    "    optimizer = Adam(model.parameters(), lr=0.001)\n",
    "    criterion = torch.nn.MSELoss()\n",
    "    scheduler = ReduceLROnPlateau(optimizer, \n",
    "                                  'min', \n",
    "                                  factor=0.5, \n",
    "                                  patience=20, \n",
    "                                  verbose=True, \n",
    "                                  min_lr=0.000001)\n",
    "    \n",
    "    min_valid_loss = np.inf\n",
    "\n",
    "    train_losses = []\n",
    "    val_losses = []\n",
    "\n",
    "    # N_EPOCHS = 20\n",
    "\n",
    "    progress = tqdm_notebook(range(N_EPOCHS), desc='Model training', leave=True)\n",
    "    for epoch in progress:\n",
    "        train_loss = 0.0\n",
    "        model.train()\n",
    "        for i, data in enumerate(train_loader):\n",
    "            optimizer.zero_grad()\n",
    "\n",
    "            out = model(\n",
    "                data.noisy_0, \n",
    "                data.observable, \n",
    "                data.circuit_depth,\n",
    "                data.x, \n",
    "                data.edge_index, \n",
    "                data.batch\n",
    "            )\n",
    "            loss = criterion(out, data.y)        \n",
    "\n",
    "            train_loss += loss.item()\n",
    "\n",
    "            loss.backward()\n",
    "            optimizer.step()\n",
    "\n",
    "        valid_loss = 0.0\n",
    "        model.eval()\n",
    "        for i, data in enumerate(val_loader):\n",
    "            out = model(data.noisy_0, data.observable, data.circuit_depth, data.x, data.edge_index, data.batch)\n",
    "            loss = criterion(out, data.y)        \n",
    "\n",
    "            valid_loss += loss.item()\n",
    "\n",
    "        scheduler.step(valid_loss)\n",
    "\n",
    "        if epoch >= 1:    \n",
    "            train_losses.append(train_loss / len(train_loader))\n",
    "            val_losses.append(valid_loss / len(val_loader))\n",
    "\n",
    "            progress.set_description(f\"{round(train_losses[-1], 5)}, {round(val_losses[-1], 5)}\")\n",
    "            progress.refresh()\n",
    "    \n",
    "    return train_losses[-1]"
   ]
  },
  {
   "cell_type": "code",
   "execution_count": 105,
   "id": "3add7d7c-01fb-41fe-a6fc-8107680ae2ad",
   "metadata": {},
   "outputs": [
    {
     "data": {
      "application/vnd.jupyter.widget-view+json": {
       "model_id": "0b94fdf7b5f54de2ad166bdfc397bcf3",
       "version_major": 2,
       "version_minor": 0
      },
      "text/plain": [
       "Model training:   0%|          | 0/10 [00:00<?, ?it/s]"
      ]
     },
     "metadata": {},
     "output_type": "display_data"
    },
    {
     "data": {
      "application/vnd.jupyter.widget-view+json": {
       "model_id": "2c32044b18714fd387b4b961060c74c4",
       "version_major": 2,
       "version_minor": 0
      },
      "text/plain": [
       "Model training:   0%|          | 0/10 [00:00<?, ?it/s]"
      ]
     },
     "metadata": {},
     "output_type": "display_data"
    },
    {
     "data": {
      "application/vnd.jupyter.widget-view+json": {
       "model_id": "5918551983494d508877be5475250ec9",
       "version_major": 2,
       "version_minor": 0
      },
      "text/plain": [
       "Model training:   0%|          | 0/10 [00:00<?, ?it/s]"
      ]
     },
     "metadata": {},
     "output_type": "display_data"
    },
    {
     "data": {
      "application/vnd.jupyter.widget-view+json": {
       "model_id": "8dba75ebe2a140bbac52ab0c9ad2ca44",
       "version_major": 2,
       "version_minor": 0
      },
      "text/plain": [
       "Model training:   0%|          | 0/10 [00:00<?, ?it/s]"
      ]
     },
     "metadata": {},
     "output_type": "display_data"
    },
    {
     "data": {
      "application/vnd.jupyter.widget-view+json": {
       "model_id": "bdbbaf41ac754355b7b938797fbbb022",
       "version_major": 2,
       "version_minor": 0
      },
      "text/plain": [
       "Model training:   0%|          | 0/10 [00:00<?, ?it/s]"
      ]
     },
     "metadata": {},
     "output_type": "display_data"
    }
   ],
   "source": [
    "losses = []\n",
    "# model_copy = copy.deepcopy(model)\n",
    "\n",
    "for n_batches in range(1, 15, 3):\n",
    "    tweaked_data_paths = glob.glob(\"./data/stability_over_time_experiment/pyg_data/tweaked/**.json\")[:max_files_to_use]\n",
    "\n",
    "    tweaked_train_loader = DataLoader(\n",
    "        CircuitGraphExpValMitigationDataset(\n",
    "            tweaked_data_paths[:n_batches],\n",
    "        ),\n",
    "        batch_size=BATCH_SIZE,\n",
    "        shuffle=True\n",
    "    )\n",
    "\n",
    "    tweaked_val_loader = DataLoader(\n",
    "        CircuitGraphExpValMitigationDataset(\n",
    "            tweaked_data_paths[train_size:],\n",
    "        ),\n",
    "        batch_size=BATCH_SIZE,\n",
    "        shuffle=False\n",
    "    )\n",
    "    \n",
    "    model_copy = copy.deepcopy(model)\n",
    "\n",
    "    res = post_train_model(model_copy, tweaked_train_loader, tweaked_val_loader)\n",
    "    \n",
    "    losses.append(res)"
   ]
  },
  {
   "cell_type": "code",
   "execution_count": null,
   "id": "10af840d-3a98-4ea3-9bdb-e7d8b84585ef",
   "metadata": {},
   "outputs": [],
   "source": []
  },
  {
   "cell_type": "code",
   "execution_count": null,
   "id": "55d261c5-a936-43fb-b2d5-27a2c25deb5f",
   "metadata": {},
   "outputs": [],
   "source": []
  },
  {
   "cell_type": "code",
   "execution_count": null,
   "id": "7c77c9bf-e288-4d32-9d3c-cebb6fd8460b",
   "metadata": {},
   "outputs": [],
   "source": []
  },
  {
   "cell_type": "code",
   "execution_count": 106,
   "id": "e9b51974-6628-4621-8ba7-e2260914254f",
   "metadata": {},
   "outputs": [
    {
     "data": {
      "application/vnd.jupyter.widget-view+json": {
       "model_id": "58baa5e8d70a4c14b5394476ab6866d2",
       "version_major": 2,
       "version_minor": 0
      },
      "text/plain": [
       "Model training:   0%|          | 0/10 [00:00<?, ?it/s]"
      ]
     },
     "metadata": {},
     "output_type": "display_data"
    },
    {
     "data": {
      "application/vnd.jupyter.widget-view+json": {
       "model_id": "7bf58f89462c4ad0935847c7671bc575",
       "version_major": 2,
       "version_minor": 0
      },
      "text/plain": [
       "Model training:   0%|          | 0/10 [00:00<?, ?it/s]"
      ]
     },
     "metadata": {},
     "output_type": "display_data"
    },
    {
     "data": {
      "application/vnd.jupyter.widget-view+json": {
       "model_id": "8f1019c67eb9458f9a4f9ca65c42ab55",
       "version_major": 2,
       "version_minor": 0
      },
      "text/plain": [
       "Model training:   0%|          | 0/10 [00:00<?, ?it/s]"
      ]
     },
     "metadata": {},
     "output_type": "display_data"
    },
    {
     "data": {
      "application/vnd.jupyter.widget-view+json": {
       "model_id": "9c8bdc6526d44f68ae4e49b3b71a735a",
       "version_major": 2,
       "version_minor": 0
      },
      "text/plain": [
       "Model training:   0%|          | 0/10 [00:00<?, ?it/s]"
      ]
     },
     "metadata": {},
     "output_type": "display_data"
    },
    {
     "data": {
      "application/vnd.jupyter.widget-view+json": {
       "model_id": "358fd7f841094b6186ac794b9406c4d8",
       "version_major": 2,
       "version_minor": 0
      },
      "text/plain": [
       "Model training:   0%|          | 0/10 [00:00<?, ?it/s]"
      ]
     },
     "metadata": {},
     "output_type": "display_data"
    }
   ],
   "source": [
    "new_model_losses = []\n",
    "model_new = ExpValCircuitGraphModel(\n",
    "    n_qubits=5,\n",
    "    num_node_features=28, \n",
    "    hidden_channels=10\n",
    ")\n",
    "\n",
    "for n_batches in range(1, 15, 3):\n",
    "    tweaked_data_paths = glob.glob(\"./data/stability_over_time_experiment/pyg_data/tweaked/**.json\")[:max_files_to_use]\n",
    "\n",
    "    tweaked_train_loader = DataLoader(\n",
    "        CircuitGraphExpValMitigationDataset(\n",
    "            tweaked_data_paths[:n_batches],\n",
    "        ),\n",
    "        batch_size=BATCH_SIZE,\n",
    "        shuffle=True\n",
    "    )\n",
    "\n",
    "    tweaked_val_loader = DataLoader(\n",
    "        CircuitGraphExpValMitigationDataset(\n",
    "            tweaked_data_paths[train_size:],\n",
    "        ),\n",
    "        batch_size=BATCH_SIZE,\n",
    "        shuffle=False\n",
    "    )\n",
    "    \n",
    "    new_model_copy = copy.deepcopy(model_new)\n",
    "\n",
    "    res = post_train_model(new_model_copy, tweaked_train_loader, tweaked_val_loader)\n",
    "    \n",
    "    new_model_losses.append(res)"
   ]
  },
  {
   "cell_type": "code",
   "execution_count": 124,
   "id": "8506eba2-a85c-4165-bfab-86bb00884cfa",
   "metadata": {},
   "outputs": [
    {
     "data": {
      "image/png": "[encoded data removed]",
      "text/plain": [
       "<Figure size 640x480 with 1 Axes>"
      ]
     },
     "metadata": {},
     "output_type": "display_data"
    }
   ],
   "source": [
    "plt.plot(range(1, 15, 3), new_model_losses, label=\"trained from scratch\")\n",
    "plt.plot(range(1, 15, 3), losses, label=\"pretrained model with changed device properties\")\n",
    "plt.axhline(y=final_error, color='r', linestyle='-')\n",
    "plt.legend()\n",
    "plt.show()"
   ]
  },
  {
   "cell_type": "code",
   "execution_count": null,
   "id": "4e1805aa-79ea-4357-ad5f-d18e70888fa4",
   "metadata": {},
   "outputs": [],
   "source": []
  },
  {
   "cell_type": "code",
   "execution_count": null,
   "id": "dfb11947-a0ce-4a0a-a70d-e7a301b72302",
   "metadata": {},
   "outputs": [],
   "source": []
  }
 ],
 "metadata": {
  "kernelspec": {
   "display_name": "Python 3 (ipykernel)",
   "language": "python",
   "name": "python3"
  },
  "language_info": {
   "codemirror_mode": {
    "name": "ipython",
    "version": 3
   },
   "file_extension": ".py",
   "mimetype": "text/x-python",
   "name": "python",
   "nbconvert_exporter": "python",
   "pygments_lexer": "ipython3",
   "version": "3.7.13"
  }
 },
 "nbformat": 4,
 "nbformat_minor": 5
}
