{
 "cells": [
  {
   "cell_type": "code",
   "execution_count": 46,
   "id": "06120253-65b9-48b5-8925-4565a96933d4",
   "metadata": {},
   "outputs": [],
   "source": [
    "import json\n",
    "import glob\n",
    "import itertools\n",
    "\n",
    "from pathlib import Path\n",
    "import numpy as np\n",
    "import pandas as pd\n",
    "\n",
    "from qiskit import transpile, QuantumCircuit\n",
    "from qiskit.providers.fake_provider import FakeLima\n",
    "from qiskit.primitives import Estimator, BackendEstimator\n",
    "from qiskit.circuit.random import random_circuit\n",
    "from qiskit.quantum_info import SparsePauliOp\n",
    "\n",
    "import torch\n",
    "from torch.optim import Adam\n",
    "from torch.optim.lr_scheduler import ReduceLROnPlateau\n",
    "from torch.nn.functional import dropout\n",
    "\n",
    "from torch_geometric.nn import (\n",
    "    GCNConv, \n",
    "    TransformerConv, \n",
    "    GATv2Conv, \n",
    "    global_mean_pool, \n",
    "    Linear, \n",
    "    ChebConv, \n",
    "    SAGEConv,\n",
    "    ASAPooling,\n",
    "    dense_diff_pool,\n",
    "    avg_pool_neighbor_x\n",
    ")\n",
    "from torch_geometric.data import Data\n",
    "from torch_geometric.loader import DataLoader\n",
    "from torch_geometric.utils import to_dense_adj, to_dense_batch\n",
    "\n",
    "from tqdm.notebook import tqdm_notebook\n",
    "import matplotlib.pyplot as plt\n",
    "import seaborn as sns\n",
    "\n",
    "from blackwater.data.loaders.exp_val import CircuitGraphExpValMitigationDataset\n",
    "from blackwater.data.generators.exp_val import exp_value_generator\n",
    "from blackwater.data.utils import generate_random_pauli_sum_op\n",
    "from blackwater.library.ngem.estimator import ngem\n",
    "from blackwater.data.utils import (\n",
    "    generate_random_pauli_sum_op,\n",
    "    create_estimator_meas_data,\n",
    "    circuit_to_graph_data_json,\n",
    "    get_backend_properties_v1,\n",
    "    encode_pauli_sum_op,\n",
    "    create_meas_data_from_estimators\n",
    ")\n",
    "from blackwater.data.generators.exp_val import ExpValueEntry\n",
    "from blackwater.metrics.improvement_factor import improvement_factor, Trial, Problem\n",
    "\n",
    "from qiskit_aer.primitives import Estimator as AerEstimator\n",
    "from qiskit_aer.noise import NoiseModel\n",
    "import qiskit_aer.noise as noise\n",
    "\n",
    "from qiskit.providers.models import BackendProperties\n",
    "\n",
    "from pprint import pprint\n",
    "import copy"
   ]
  },
  {
   "cell_type": "code",
   "execution_count": 2,
   "id": "5c379f17-89b8-49f4-b164-27896833c6a8",
   "metadata": {},
   "outputs": [],
   "source": [
    "backend = FakeLima()\n",
    "properties = get_backend_properties_v1(backend)"
   ]
  },
  {
   "cell_type": "code",
   "execution_count": 3,
   "id": "0a4bd2e8-1f85-4ba1-8eac-075ace69ac32",
   "metadata": {},
   "outputs": [],
   "source": [
    "# 0. generate data\n",
    "# 1. create orinal noise model (nm0)\n",
    "# 2. train model on nm0 with 10k circuits and get MSE\n",
    "# 3. wiggle noise model (nm1) and check MSE \n",
    "# 4. train model from scratch with 1k, 2k, 3k, 4k, ... and get MSE\n",
    "# 5. plot"
   ]
  },
  {
   "cell_type": "code",
   "execution_count": null,
   "id": "1815e9fa-0b9a-4391-83ab-ead63e2c92cf",
   "metadata": {},
   "outputs": [],
   "source": []
  },
  {
   "cell_type": "markdown",
   "id": "1597daed-94d9-4840-928c-c81e255e5995",
   "metadata": {},
   "source": [
    "### Generate data"
   ]
  },
  {
   "cell_type": "code",
   "execution_count": null,
   "id": "3c397d0a-1a27-4817-80a2-ceead8d9e907",
   "metadata": {},
   "outputs": [],
   "source": [
    "# # circuits data\n",
    "\n",
    "# N_FILES = 100\n",
    "# N_ENTRIES_PER_FILE = 100\n",
    "\n",
    "# for i in tqdm_notebook(range(N_FILES)):\n",
    "#     with open(f\"./data/stability_over_time_experiment/circuits/qasm_circuits_{i}.txt\", \"w\") as f:\n",
    "#         for _ in range(N_ENTRIES_PER_FILE):\n",
    "#             circuit = transpile(\n",
    "#                 random_circuit(5, 1, measure=True), \n",
    "#                 basis_gates=backend.configuration().basis_gates,\n",
    "#                 optimization_level=0\n",
    "#             )\n",
    "            \n",
    "#             f.write(circuit.qasm())\n",
    "#             f.write(\"=====\\n\")"
   ]
  },
  {
   "cell_type": "code",
   "execution_count": 21,
   "id": "bb2d69e1-8cfa-446f-8a58-4c58a4706c89",
   "metadata": {},
   "outputs": [],
   "source": [
    "# build estimator"
   ]
  },
  {
   "cell_type": "code",
   "execution_count": 9,
   "id": "a8e84638-db4c-411a-a5aa-d8afb4acdecd",
   "metadata": {},
   "outputs": [],
   "source": [
    "import requests"
   ]
  },
  {
   "cell_type": "code",
   "execution_count": 10,
   "id": "0e1a14ac-5f7d-42aa-b5b7-e6e196fe5e26",
   "metadata": {},
   "outputs": [],
   "source": [
    "lima_props = json.loads(\n",
    "    requests.get(\n",
    "        \"https://raw.githubusercontent.com/Qiskit/qiskit-terra/3241978340f534b76e4cf0e5e25ed16e2af5cf78/qiskit/providers/fake_provider/backends/lima/props_lima.json\"\n",
    "    ).text\n",
    ")"
   ]
  },
  {
   "cell_type": "code",
   "execution_count": 11,
   "id": "a08f0016-f773-4b03-83dc-49dd3494f87e",
   "metadata": {},
   "outputs": [],
   "source": [
    "backend_original = FakeLima()\n",
    "backend_tweaked = FakeLima()"
   ]
  },
  {
   "cell_type": "code",
   "execution_count": 12,
   "id": "0dff50a6-982b-4cba-9dce-940a0123249b",
   "metadata": {},
   "outputs": [],
   "source": [
    "backend_original.properties = lambda: BackendProperties.from_dict(lima_props)"
   ]
  },
  {
   "cell_type": "code",
   "execution_count": 29,
   "id": "c75126b1-fac9-4804-b420-8bdfb2a6ce22",
   "metadata": {},
   "outputs": [],
   "source": [
    "aer_estimator = AerEstimator()\n",
    "estimator_original = BackendEstimator(backend_original, skip_transpilation=True)"
   ]
  },
  {
   "cell_type": "code",
   "execution_count": 23,
   "id": "ca72e055-9351-4627-b60a-7b3e05d7fab2",
   "metadata": {},
   "outputs": [],
   "source": [
    "def change_properties(lima_props, lower_bound: float = 1.0, upper_bound: float = 3.0):\n",
    "    \"\"\"Changes qubit and gate properties by given bounds.\n",
    "    \n",
    "    Returns:\n",
    "        New qubit and gate properties\n",
    "    \"\"\"\n",
    "    CHANGE = np.random.uniform(lower_bound, upper_bound)\n",
    "    \n",
    "    new_qubits = []\n",
    "    for qubit in lima_props[\"qubits\"]:\n",
    "        new_qubit = []\n",
    "        for param in qubit:\n",
    "            new_param = param.copy()\n",
    "            new_param[\"value\"] = param[\"value\"] * CHANGE\n",
    "            new_qubit.append(new_param)\n",
    "\n",
    "        new_qubits.append(new_qubit)\n",
    "\n",
    "    new_gates = []\n",
    "    for gate in lima_props[\"gates\"]:\n",
    "        new_gate = gate.copy()\n",
    "\n",
    "        new_parameters = []\n",
    "        for param in gate[\"parameters\"]:\n",
    "            new_param = param.copy()\n",
    "            new_param[\"value\"] = param[\"value\"] * CHANGE\n",
    "            new_parameters.append(new_param)\n",
    "\n",
    "        new_gate[\"parameters\"] = new_parameters\n",
    "\n",
    "        new_gates.append(new_gate)\n",
    "        \n",
    "    return new_qubits, new_gates"
   ]
  },
  {
   "cell_type": "code",
   "execution_count": null,
   "id": "88ad6be0-72d7-4104-ac97-e1668663fce4",
   "metadata": {},
   "outputs": [],
   "source": []
  },
  {
   "cell_type": "code",
   "execution_count": 24,
   "id": "82aa6561-b899-4a33-a398-69d08d57d776",
   "metadata": {},
   "outputs": [],
   "source": [
    "tweaked_lima_props = lima_props.copy()\n",
    "\n",
    "new_qubits, new_gates =  change_properties(lima_props, 1.0, 3.0)\n",
    "\n",
    "tweaked_lima_props[\"gates\"] = new_gates\n",
    "tweaked_lima_props[\"qubits\"] = new_qubits"
   ]
  },
  {
   "cell_type": "code",
   "execution_count": 62,
   "id": "f0f6a308-14c7-4915-8ae6-fdc6707cf31e",
   "metadata": {},
   "outputs": [],
   "source": []
  },
  {
   "cell_type": "code",
   "execution_count": 45,
   "id": "d613347f-97a9-4313-98bc-c001d8561b1f",
   "metadata": {},
   "outputs": [],
   "source": [
    "shifts_range = range(1, 11, 3)\n",
    "\n",
    "obs = SparsePauliOp([\"ZZZZZ\"])\n",
    "\n",
    "tweaked_estimators = []\n",
    "tweaked_backends = []\n",
    "\n",
    "for shift in shifts_range:\n",
    "    tweaked_lima_props = lima_props.copy()\n",
    "\n",
    "    new_qubits, new_gates =  change_properties(lima_props, shift, shift + 2)\n",
    "\n",
    "    tweaked_lima_props[\"gates\"] = new_gates\n",
    "    tweaked_lima_props[\"qubits\"] = new_qubits\n",
    "    \n",
    "    backend_tweaked.properties = lambda: BackendProperties.from_dict(tweaked_lima_props)\n",
    "    \n",
    "    estimator_tweaked = BackendEstimator(backend_tweaked, skip_transpilation=True)\n",
    "    \n",
    "    tweaked_estimators.append(estimator_tweaked)\n",
    "    tweaked_backends.append(backend_tweaked)"
   ]
  },
  {
   "cell_type": "code",
   "execution_count": 34,
   "id": "fadfe94c-61ac-4ae2-a988-0eaa330394e3",
   "metadata": {},
   "outputs": [
    {
     "data": {
      "application/vnd.jupyter.widget-view+json": {
       "model_id": "86f43276ae8c405ba1f43565ec97f668",
       "version_major": 2,
       "version_minor": 0
      },
      "text/plain": [
       "  0%|          | 0/20 [00:00<?, ?it/s]"
      ]
     },
     "metadata": {},
     "output_type": "display_data"
    }
   ],
   "source": [
    "N_FILES = 20\n",
    "\n",
    "for i in tqdm_notebook(range(N_FILES)):\n",
    "    with open(f\"./data/stability_over_time_experiment/circuits/qasm_circuits_{i}.txt\", \"r\") as f:\n",
    "        qasm_strings = f.read().split(\"=====\")[:-1]\n",
    "\n",
    "        with open(f\"./data/stability_over_time_experiment/measurements/results_{i}.txt\", \"w\") as fr:\n",
    "            for qasm in qasm_strings:\n",
    "                circuit = QuantumCircuit.from_qasm_str(qasm)\n",
    "\n",
    "                estimators = [aer_estimator, estimator_original] + tweaked_estimators\n",
    "                \n",
    "                ideal_exp_vals = create_meas_data_from_estimators(\n",
    "                    circuits=circuit, \n",
    "                    observables=obs, \n",
    "                    estimators=estimators,\n",
    "                    shots=10000\n",
    "                )\n",
    "\n",
    "                fr.write(\",\".join([str(x) for x in ideal_exp_vals]))\n",
    "                fr.write(\"\\n\")"
   ]
  },
  {
   "cell_type": "code",
   "execution_count": 39,
   "id": "d70097a9-b7ca-4098-ab2c-a0444a77b32b",
   "metadata": {},
   "outputs": [],
   "source": [
    "n_shifts = len(list(shifts_range))"
   ]
  },
  {
   "cell_type": "code",
   "execution_count": null,
   "id": "2bb4c214-62f0-428b-9e90-0c6bdfffe120",
   "metadata": {},
   "outputs": [],
   "source": []
  },
  {
   "cell_type": "code",
   "execution_count": null,
   "id": "c2d500ea-85e8-4ff8-a57c-8fee3d8cbde5",
   "metadata": {},
   "outputs": [],
   "source": []
  },
  {
   "cell_type": "code",
   "execution_count": 48,
   "id": "a8256356-cf91-4e00-8c06-92aa5fad3677",
   "metadata": {},
   "outputs": [
    {
     "data": {
      "application/vnd.jupyter.widget-view+json": {
       "model_id": "0389df2a38b547c88b0d098bad3bf2fd",
       "version_major": 2,
       "version_minor": 0
      },
      "text/plain": [
       "  0%|          | 0/20 [00:00<?, ?it/s]"
      ]
     },
     "metadata": {},
     "output_type": "display_data"
    }
   ],
   "source": [
    "observable = encode_pauli_sum_op(SparsePauliOp(\"ZZZZZ\"))\n",
    "\n",
    "for i in tqdm_notebook(range(N_FILES)):\n",
    "    circuits = []\n",
    "    with open(f\"./data/stability_over_time_experiment/circuits/qasm_circuits_{i}.txt\", \"r\") as fc:\n",
    "        qasm_strings = fc.read().split(\"=====\")[:-1]\n",
    "        circuits = [QuantumCircuit.from_qasm_str(qasm)\n",
    "                    for qasm in qasm_strings]\n",
    "\n",
    "    measurements = []\n",
    "                                       \n",
    "    df = pd.read_csv(f\"./data/stability_over_time_experiment/measurements/results_{i}.txt\", header=None)\n",
    "    df.columns = [\"ideal\", \"noise\"] + [f\"shift_{x}\" for x in range(n_shifts)]\n",
    "\n",
    "    for row in df.iterrows():\n",
    "        measurements.append([\n",
    "            row[1][\"ideal\"],\n",
    "            row[1][\"noise\"]\n",
    "        ] + [\n",
    "            row[1][f\"shift_{x}\"] for x in range(n_shifts)\n",
    "        ])    \n",
    "                       \n",
    "    original_entries = []\n",
    "    tweaked_entries = {\n",
    "        x: [] for x in range(n_shifts)\n",
    "    }\n",
    "\n",
    "    for mments, circuit in zip(measurements, circuits):\n",
    "        ideal_ev, original_ev, tweaked_meas = mments[0], mments[1], mments[2:]\n",
    "         \n",
    "        original_graph_data = circuit_to_graph_data_json(\n",
    "            circuit=circuit,\n",
    "            properties=get_backend_properties_v1(backend_original),\n",
    "            use_qubit_features=True,\n",
    "            use_gate_features=True,\n",
    "        )\n",
    "        original_entry = ExpValueEntry(\n",
    "            circuit_graph=original_graph_data,\n",
    "            observable=observable,\n",
    "            ideal_exp_value=ideal_ev,\n",
    "            noisy_exp_values=[original_ev],\n",
    "            circuit_depth=circuit.depth()\n",
    "        ) \n",
    "        \n",
    "        original_entries.append(original_entry.to_dict())\n",
    "        \n",
    "        for idx, (tweaked_ev, tweaked_bcknd) in enumerate(zip(tweaked_meas, tweaked_backends)):\n",
    "            tweaked_graph_data = circuit_to_graph_data_json(\n",
    "                circuit=circuit,\n",
    "                properties=get_backend_properties_v1(tweaked_bcknd),\n",
    "                use_qubit_features=True,\n",
    "                use_gate_features=True,\n",
    "            )\n",
    "\n",
    "            tweaked_entry = ExpValueEntry(\n",
    "                circuit_graph=tweaked_graph_data,\n",
    "                observable=observable,\n",
    "                ideal_exp_value=ideal_ev,\n",
    "                noisy_exp_values=[tweaked_ev],\n",
    "                circuit_depth=circuit.depth()\n",
    "            )\n",
    "            \n",
    "            tweaked_entries[idx].append(tweaked_entry.to_dict())\n",
    "             \n",
    "    save_file_path = f\"./data/stability_over_time_experiment/pyg_data/original/{i}.json\"\n",
    "    with open(save_file_path, \"w\") as json_file:\n",
    "        json.dump(original_entries, json_file)\n",
    "             \n",
    "    for idx, entries in tweaked_entries.items():\n",
    "        folder = f\"./data/stability_over_time_experiment/pyg_data/tweaked_{idx}\"\n",
    "        Path(folder).mkdir(parents=True, exist_ok=True)\n",
    "        save_file_path = f\"{folder}/{i}.json\"\n",
    "        \n",
    "        with open(save_file_path, \"w\") as json_file:\n",
    "            json.dump(entries, json_file)"
   ]
  },
  {
   "cell_type": "markdown",
   "id": "e5fe54b5-f276-468e-9b8d-0bf12e51e235",
   "metadata": {},
   "source": [
    "###  Train networks"
   ]
  },
  {
   "cell_type": "code",
   "execution_count": 187,
   "id": "79272cff-f027-4cc6-b0f9-9cf54bca64f8",
   "metadata": {},
   "outputs": [
    {
     "name": "stdout",
     "output_type": "stream",
     "text": [
      "DataBatch(x=[286, 22], edge_index=[2, 585], edge_attr=[299, 3], y=[10, 1], observable=[10, 1, 21], circuit_depth=[10, 1], noisy_0=[10, 1], batch=[286], ptr=[11])\n"
     ]
    }
   ],
   "source": [
    "max_files_to_use = 20\n",
    "train_size = 15\n",
    "\n",
    "data_paths = glob.glob(\"./data/stability_over_time_experiment/pyg_data/original/**.json\")[:max_files_to_use]\n",
    "\n",
    "BATCH_SIZE = 10\n",
    "\n",
    "train_loader = DataLoader(\n",
    "    CircuitGraphExpValMitigationDataset(\n",
    "        data_paths[:train_size],\n",
    "    ),\n",
    "    batch_size=BATCH_SIZE,\n",
    "    shuffle=True\n",
    ")\n",
    "\n",
    "val_loader = DataLoader(\n",
    "    CircuitGraphExpValMitigationDataset(\n",
    "        data_paths[train_size:],\n",
    "    ),\n",
    "    batch_size=BATCH_SIZE,\n",
    "    shuffle=False\n",
    ")\n",
    "\n",
    "for data in train_loader:\n",
    "    print(data)\n",
    "    break"
   ]
  },
  {
   "cell_type": "code",
   "execution_count": null,
   "id": "86787fad-794a-4aa3-b2b4-661968124fb8",
   "metadata": {},
   "outputs": [],
   "source": []
  },
  {
   "cell_type": "code",
   "execution_count": 188,
   "id": "68a5331d-745c-4233-8084-d583be4ad850",
   "metadata": {},
   "outputs": [],
   "source": [
    "class ExpValCircuitGraphModel(torch.nn.Module):\n",
    "    def __init__(\n",
    "        self,\n",
    "        n_qubits: int,\n",
    "        num_node_features: int,\n",
    "        hidden_channels: int\n",
    "    ):\n",
    "        super().__init__()\n",
    "        self.conv1 = GCNConv(num_node_features, hidden_channels)\n",
    "        self.conv2 = GCNConv(hidden_channels, hidden_channels)\n",
    "        self.conv3 = GCNConv(hidden_channels, 1)\n",
    "        \n",
    "        self.cheb_conv1 = ChebConv(num_node_features, hidden_channels, K=3)\n",
    "        self.cheb_conv2 = ChebConv(hidden_channels, 1, K=2)\n",
    "\n",
    "        self.sage_conv1 = SAGEConv(num_node_features, hidden_channels)\n",
    "        self.sage_conv2 = SAGEConv(hidden_channels, 1)\n",
    "        \n",
    "        self.obs_seq = torch.nn.Sequential(\n",
    "            Linear(n_qubits * 4 + 1, hidden_channels),\n",
    "            torch.nn.Dropout(0.2),\n",
    "            Linear(hidden_channels, 1)\n",
    "        )\n",
    "        \n",
    "        self.body_seq = torch.nn.Sequential(\n",
    "            Linear(6, hidden_channels),\n",
    "            Linear(hidden_channels, 1)\n",
    "        )\n",
    "\n",
    "    def forward(self, \n",
    "                exp_value, observable, \n",
    "                circuit_depth, nodes, \n",
    "                edge_index, batch):\n",
    "        # GCN\n",
    "        graph = self.conv1(nodes, edge_index).relu()\n",
    "        graph = dropout(graph, training=self.training, p=0.1)\n",
    "        graph = self.conv2(graph, edge_index).relu()\n",
    "        graph = dropout(graph, training=self.training, p=0.1)\n",
    "        graph = self.conv3(graph, edge_index)\n",
    "        graph = global_mean_pool(graph, batch)\n",
    "        \n",
    "        # Cheb\n",
    "        cheb = self.cheb_conv1(nodes, edge_index).relu()\n",
    "        cheb = dropout(cheb, training=self.training, p=0.2)\n",
    "        cheb = self.cheb_conv2(cheb, edge_index)\n",
    "        cheb = global_mean_pool(cheb, batch)\n",
    "        \n",
    "        # Sage\n",
    "        sage = self.sage_conv1(nodes, edge_index).relu()\n",
    "        sage = dropout(sage, training=self.training, p=0.2)\n",
    "        sage = self.sage_conv2(sage, edge_index)\n",
    "        sage = global_mean_pool(sage, batch)\n",
    "        \n",
    "        obs = self.obs_seq(observable)\n",
    "        obs = torch.mean(obs, dim=1)\n",
    "        \n",
    "        merge = torch.cat((\n",
    "            graph, \n",
    "            cheb,\n",
    "            sage,\n",
    "            obs,\n",
    "            circuit_depth,\n",
    "            exp_value\n",
    "        ), dim=1)\n",
    "\n",
    "        return self.body_seq(merge)"
   ]
  },
  {
   "cell_type": "code",
   "execution_count": 190,
   "id": "a38593ce-25d2-455b-adc0-730f4231eb31",
   "metadata": {},
   "outputs": [],
   "source": [
    "GLOBAL_LR = 0.0001\n",
    "N_EPOCHS = 10"
   ]
  },
  {
   "cell_type": "code",
   "execution_count": 229,
   "id": "168f6fd4-8e60-440a-b81e-e90dfd585a89",
   "metadata": {},
   "outputs": [],
   "source": [
    "model = ExpValCircuitGraphModel(\n",
    "    n_qubits=5,\n",
    "    num_node_features=22, \n",
    "    hidden_channels=10\n",
    ")\n",
    "optimizer = Adam(model.parameters(), lr=GLOBAL_LR)\n",
    "criterion = torch.nn.MSELoss()\n",
    "scheduler = ReduceLROnPlateau(optimizer, \n",
    "                              'min', \n",
    "                              factor=0.5, \n",
    "                              patience=20, \n",
    "                              verbose=True, \n",
    "                              min_lr=0.000001)"
   ]
  },
  {
   "cell_type": "code",
   "execution_count": 230,
   "id": "b829b644-0866-4fef-b53d-cb292c6dddf1",
   "metadata": {},
   "outputs": [
    {
     "data": {
      "application/vnd.jupyter.widget-view+json": {
       "model_id": "ca06891c7c374924ae982b4f1c0b2fbe",
       "version_major": 2,
       "version_minor": 0
      },
      "text/plain": [
       "Model training:   0%|          | 0/20 [00:00<?, ?it/s]"
      ]
     },
     "metadata": {},
     "output_type": "display_data"
    }
   ],
   "source": [
    "min_valid_loss = np.inf\n",
    "\n",
    "train_losses = []\n",
    "val_losses = []\n",
    "\n",
    "progress = tqdm_notebook(range(N_EPOCHS*2), desc='Model training', leave=True)\n",
    "for epoch in progress:\n",
    "    train_loss = 0.0\n",
    "    model.train()\n",
    "    for i, data in enumerate(train_loader):\n",
    "        optimizer.zero_grad()\n",
    "\n",
    "        out = model(\n",
    "            data.noisy_0, \n",
    "            data.observable, \n",
    "            data.circuit_depth,\n",
    "            data.x, \n",
    "            data.edge_index, \n",
    "            data.batch\n",
    "        )\n",
    "        loss = criterion(out, data.y)        \n",
    "        \n",
    "        train_loss += loss.item()\n",
    "        \n",
    "        loss.backward()\n",
    "        optimizer.step()\n",
    "                \n",
    "    valid_loss = 0.0\n",
    "    model.eval()\n",
    "    for i, data in enumerate(val_loader):\n",
    "        out = model(data.noisy_0, data.observable, data.circuit_depth, data.x, data.edge_index, data.batch)\n",
    "        loss = criterion(out, data.y)        \n",
    "\n",
    "        valid_loss += loss.item()\n",
    "\n",
    "    scheduler.step(valid_loss)\n",
    "\n",
    "    if epoch >= 1:    \n",
    "        train_losses.append(train_loss / len(train_loader))\n",
    "        val_losses.append(valid_loss / len(val_loader))\n",
    "\n",
    "        progress.set_description(f\"{round(train_losses[-1], 5)}, {round(val_losses[-1], 5)}\")\n",
    "        progress.refresh()"
   ]
  },
  {
   "cell_type": "code",
   "execution_count": 231,
   "id": "d2213ca3-0b1e-4e1b-9f6b-561fae5a89f9",
   "metadata": {},
   "outputs": [
    {
     "data": {
      "image/png": "[encoded data removed]",
      "text/plain": [
       "<Figure size 640x480 with 1 Axes>"
      ]
     },
     "metadata": {},
     "output_type": "display_data"
    }
   ],
   "source": [
    "plt.plot(train_losses, label=\"train_loss\")\n",
    "plt.plot(val_losses, label=\"val_loss\")\n",
    "# plt.yscale('log')\n",
    "\n",
    "plt.legend()\n",
    "plt.show()"
   ]
  },
  {
   "cell_type": "code",
   "execution_count": 194,
   "id": "5d5ba75c-9547-4662-8d99-f3a85090c693",
   "metadata": {},
   "outputs": [
    {
     "data": {
      "text/plain": [
       "0.5287716485733209"
      ]
     },
     "execution_count": 194,
     "metadata": {},
     "output_type": "execute_result"
    }
   ],
   "source": [
    "final_error = val_losses[-1]\n",
    "final_error"
   ]
  },
  {
   "cell_type": "code",
   "execution_count": 195,
   "id": "8ea3ac17-379d-4bd2-864d-e5d4b5179ddc",
   "metadata": {},
   "outputs": [],
   "source": [
    "# plt.plot(val_losses)\n",
    "# plt.show()"
   ]
  },
  {
   "cell_type": "code",
   "execution_count": null,
   "id": "e7a27d39-08de-48d6-9ea8-aa1ed61ae84c",
   "metadata": {},
   "outputs": [],
   "source": []
  },
  {
   "cell_type": "code",
   "execution_count": 196,
   "id": "d13725ae-9168-43e8-9489-0d90c08cec5e",
   "metadata": {},
   "outputs": [],
   "source": [
    "def post_train_model(model, train_loader, val_loader):\n",
    "    optimizer = Adam(model.parameters(), lr=GLOBAL_LR)\n",
    "    criterion = torch.nn.MSELoss()\n",
    "    scheduler = ReduceLROnPlateau(optimizer, \n",
    "                                  'min', \n",
    "                                  factor=0.5, \n",
    "                                  patience=20, \n",
    "                                  verbose=True, \n",
    "                                  min_lr=0.000001)\n",
    "    \n",
    "    min_valid_loss = np.inf\n",
    "\n",
    "    train_losses = []\n",
    "    val_losses = []\n",
    "\n",
    "    progress = tqdm_notebook(range(N_EPOCHS), desc='Model training', leave=True)\n",
    "    for epoch in progress:\n",
    "        train_loss = 0.0\n",
    "        model.train()\n",
    "        for i, data in enumerate(train_loader):\n",
    "            optimizer.zero_grad()\n",
    "\n",
    "            out = model(\n",
    "                data.noisy_0, \n",
    "                data.observable, \n",
    "                data.circuit_depth,\n",
    "                data.x, \n",
    "                data.edge_index, \n",
    "                data.batch\n",
    "            )\n",
    "            loss = criterion(out, data.y)        \n",
    "\n",
    "            train_loss += loss.item()\n",
    "\n",
    "            loss.backward()\n",
    "            optimizer.step()\n",
    "\n",
    "        valid_loss = 0.0\n",
    "        model.eval()\n",
    "        for i, data in enumerate(val_loader):\n",
    "            out = model(data.noisy_0, data.observable, data.circuit_depth, data.x, data.edge_index, data.batch)\n",
    "            loss = criterion(out, data.y)        \n",
    "\n",
    "            valid_loss += loss.item()\n",
    "\n",
    "        scheduler.step(valid_loss)\n",
    "\n",
    "        if epoch >= 1:    \n",
    "            train_losses.append(train_loss / len(train_loader))\n",
    "            val_losses.append(valid_loss / len(val_loader))\n",
    "\n",
    "            progress.set_description(f\"{round(train_losses[-1], 5)}, {round(val_losses[-1], 5)}\")\n",
    "            progress.refresh()\n",
    "    \n",
    "    return val_losses"
   ]
  },
  {
   "cell_type": "code",
   "execution_count": null,
   "id": "2ae98c35-b1a9-4735-846a-0cc7293664ff",
   "metadata": {},
   "outputs": [],
   "source": []
  },
  {
   "cell_type": "code",
   "execution_count": 197,
   "id": "c04b89eb-abda-4ee5-bfa0-ed5e4049ea5e",
   "metadata": {},
   "outputs": [
    {
     "data": {
      "application/vnd.jupyter.widget-view+json": {
       "model_id": "aaec19d9c63a44b5a6960bccc148b505",
       "version_major": 2,
       "version_minor": 0
      },
      "text/plain": [
       "  0%|          | 0/4 [00:00<?, ?it/s]"
      ]
     },
     "metadata": {},
     "output_type": "display_data"
    },
    {
     "data": {
      "application/vnd.jupyter.widget-view+json": {
       "model_id": "debf27ce33f14001b6e7e0028e28fd35",
       "version_major": 2,
       "version_minor": 0
      },
      "text/plain": [
       "Model training:   0%|          | 0/10 [00:00<?, ?it/s]"
      ]
     },
     "metadata": {},
     "output_type": "display_data"
    },
    {
     "data": {
      "application/vnd.jupyter.widget-view+json": {
       "model_id": "5486e3fe629f4a5aa0170cff1d379902",
       "version_major": 2,
       "version_minor": 0
      },
      "text/plain": [
       "Model training:   0%|          | 0/10 [00:00<?, ?it/s]"
      ]
     },
     "metadata": {},
     "output_type": "display_data"
    },
    {
     "data": {
      "application/vnd.jupyter.widget-view+json": {
       "model_id": "7c3d19ad81e041d1adf6a7d2cd35e8f2",
       "version_major": 2,
       "version_minor": 0
      },
      "text/plain": [
       "Model training:   0%|          | 0/10 [00:00<?, ?it/s]"
      ]
     },
     "metadata": {},
     "output_type": "display_data"
    },
    {
     "data": {
      "application/vnd.jupyter.widget-view+json": {
       "model_id": "d294da57f835434ba0b4cc3ce58446d0",
       "version_major": 2,
       "version_minor": 0
      },
      "text/plain": [
       "Model training:   0%|          | 0/10 [00:00<?, ?it/s]"
      ]
     },
     "metadata": {},
     "output_type": "display_data"
    }
   ],
   "source": [
    "tweaked_losses = []\n",
    "\n",
    "for idx in tqdm_notebook(range(n_shifts)):\n",
    "    tweaked_data_paths = glob.glob(f\"./data/stability_over_time_experiment/pyg_data/tweaked_{idx}/**.json\")[:max_files_to_use]\n",
    "    \n",
    "    tweaked_train_loader = DataLoader(\n",
    "        CircuitGraphExpValMitigationDataset(\n",
    "            tweaked_data_paths[:train_size],\n",
    "        ),\n",
    "        batch_size=BATCH_SIZE,\n",
    "        shuffle=True\n",
    "    )\n",
    "\n",
    "    tweaked_val_loader = DataLoader(\n",
    "        CircuitGraphExpValMitigationDataset(\n",
    "            tweaked_data_paths[train_size:],\n",
    "        ),\n",
    "        batch_size=BATCH_SIZE,\n",
    "        shuffle=False\n",
    "    )\n",
    "    \n",
    "    model_copy = copy.deepcopy(model)\n",
    "\n",
    "    res = post_train_model(model_copy, tweaked_train_loader, tweaked_val_loader)\n",
    "    \n",
    "    tweaked_losses.append(res)"
   ]
  },
  {
   "cell_type": "code",
   "execution_count": null,
   "id": "ec93ab68-c0f6-4120-92ec-9fe007b893a4",
   "metadata": {},
   "outputs": [],
   "source": []
  },
  {
   "cell_type": "code",
   "execution_count": 198,
   "id": "478095b3-5466-4db4-ae36-22ec27b9ff11",
   "metadata": {},
   "outputs": [],
   "source": [
    "model_from_scratch = ExpValCircuitGraphModel(\n",
    "    n_qubits=5,\n",
    "    num_node_features=22, \n",
    "    hidden_channels=10\n",
    ")\n",
    "optimizer = Adam(model_from_scratch.parameters(), lr=GLOBAL_LR)\n",
    "criterion = torch.nn.MSELoss()\n",
    "scheduler = ReduceLROnPlateau(optimizer, \n",
    "                              'min', \n",
    "                              factor=0.5, \n",
    "                              patience=20, \n",
    "                              verbose=True, \n",
    "                              min_lr=0.000001)\n",
    "\n",
    "min_valid_loss = np.inf\n",
    "\n",
    "train_losses = []\n",
    "val_losses = []\n",
    "\n",
    "progress = tqdm_notebook(range(N_EPOCHS), desc='Model training', leave=True)\n",
    "for epoch in progress:\n",
    "    train_loss = 0.0\n",
    "    model_from_scratch.train()\n",
    "    for i, data in enumerate(train_loader):\n",
    "        optimizer.zero_grad()\n",
    "\n",
    "        out = model_from_scratch(\n",
    "            data.noisy_0, \n",
    "            data.observable, \n",
    "            data.circuit_depth,\n",
    "            data.x, \n",
    "            data.edge_index, \n",
    "            data.batch\n",
    "        )\n",
    "        loss = criterion(out, data.y)        \n",
    "        \n",
    "        train_loss += loss.item()\n",
    "        \n",
    "        loss.backward()\n",
    "        optimizer.step()\n",
    "                \n",
    "    valid_loss = 0.0\n",
    "    model_from_scratch.eval()\n",
    "    for i, data in enumerate(val_loader):\n",
    "        out = model_from_scratch(data.noisy_0, data.observable, data.circuit_depth, data.x, data.edge_index, data.batch)\n",
    "        loss = criterion(out, data.y)        \n",
    "\n",
    "        valid_loss += loss.item()\n",
    "\n",
    "    scheduler.step(valid_loss)\n",
    "\n",
    "    if epoch >= 1:    \n",
    "        train_losses.append(train_loss / len(train_loader))\n",
    "        val_losses.append(valid_loss / len(val_loader))\n",
    "        \n",
    "        if tweaked_losses[-1][-1] > val_losses[-1]:\n",
    "            break\n",
    "\n",
    "        progress.set_description(f\"{round(train_losses[-1], 5)}, {round(val_losses[-1], 5)}\")\n",
    "        progress.refresh()"
   ]
  },
  {
   "cell_type": "code",
   "execution_count": 303,
   "id": "b82740ff-83e5-42c0-b997-10a8057fd186",
   "metadata": {},
   "outputs": [
    {
     "data": {
      "text/plain": [
       "[9.450379936085191,\n",
       " 4.392636608522992,\n",
       " 2.9582744728687196,\n",
       " 2.1951593038647674,\n",
       " 1.6635156352852665,\n",
       " 1.299276543495267,\n",
       " 1.025503741378008,\n",
       " 0.8324147053236185,\n",
       " 0.6842359814879506,\n",
       " 0.573568127980066,\n",
       " 0.49732134345658996,\n",
       " 0.441268450229667,\n",
       " 0.4012047807144564,\n",
       " 0.370573227072871,\n",
       " 0.3477846480386202,\n",
       " 0.32782895509586774,\n",
       " 0.3111303766799528,\n",
       " 0.2966482018315515,\n",
       " 0.282635310292244]"
      ]
     },
     "execution_count": 303,
     "metadata": {},
     "output_type": "execute_result"
    }
   ],
   "source": []
  },
  {
   "cell_type": "code",
   "execution_count": 300,
   "id": "b9d297ef-6a57-483b-a920-014427fbf36a",
   "metadata": {},
   "outputs": [
    {
     "data": {
      "image/png": "[encoded data removed]",
      "text/plain": [
       "<Figure size 640x480 with 1 Axes>"
      ]
     },
     "metadata": {},
     "output_type": "display_data"
    }
   ],
   "source": [
    "plt.plot(val_losses, label=\"Train from scratch\")\n",
    "\n",
    "for idx, tweaked_loss in enumerate(tweaked_losses):\n",
    "    plt.plot(tweaked_loss, label=f\"Turning from {shifts_range[idx]*10}% parameters shift\", color=(0.5 - 0.1*idx, 0.5, 0.5))\n",
    "\n",
    "plt.axhline(y=tweaked_losses[0][-1], color='r', linestyle='-', lw=1)\n",
    "\n",
    "plt.xlabel(\"Epochs\")\n",
    "plt.ylabel(\"Val loss\")\n",
    "plt.legend()\n",
    "# plt.yscale(\"log\")\n",
    "plt.show()"
   ]
  },
  {
   "cell_type": "code",
   "execution_count": 306,
   "id": "be662922-af3d-4822-be64-8ad8b9a463ab",
   "metadata": {},
   "outputs": [],
   "source": [
    "with open(\"./results/stability_results.json\", \"w\") as f:\n",
    "    json.dump({\n",
    "        \"from_scratch\": val_losses,\n",
    "        \"tuned\": tweaked_losses\n",
    "    }, f)"
   ]
  },
  {
   "cell_type": "code",
   "execution_count": null,
   "id": "4b80893d-718c-452d-b2ad-94ad56d888e2",
   "metadata": {},
   "outputs": [],
   "source": []
  },
  {
   "cell_type": "code",
   "execution_count": null,
   "id": "1661ddd6-36cc-43c6-997e-498dae3830af",
   "metadata": {},
   "outputs": [],
   "source": []
  },
  {
   "cell_type": "code",
   "execution_count": null,
   "id": "4e1805aa-79ea-4357-ad5f-d18e70888fa4",
   "metadata": {},
   "outputs": [],
   "source": []
  },
  {
   "cell_type": "code",
   "execution_count": null,
   "id": "dfb11947-a0ce-4a0a-a70d-e7a301b72302",
   "metadata": {},
   "outputs": [],
   "source": []
  }
 ],
 "metadata": {
  "kernelspec": {
   "display_name": "Python 3 (ipykernel)",
   "language": "python",
   "name": "python3"
  },
  "language_info": {
   "codemirror_mode": {
    "name": "ipython",
    "version": 3
   },
   "file_extension": ".py",
   "mimetype": "text/x-python",
   "name": "python",
   "nbconvert_exporter": "python",
   "pygments_lexer": "ipython3",
   "version": "3.7.13"
  }
 },
 "nbformat": 4,
 "nbformat_minor": 5
}
